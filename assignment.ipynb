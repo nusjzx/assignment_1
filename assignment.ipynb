{
 "cells": [
  {
   "cell_type": "code",
   "execution_count": 19,
   "id": "initial_id",
   "metadata": {
    "collapsed": true,
    "ExecuteTime": {
     "end_time": "2023-10-07T10:56:06.884864900Z",
     "start_time": "2023-10-07T10:56:06.867783300Z"
    }
   },
   "outputs": [],
   "source": [
    "import time\n",
    "\n",
    "import numpy as np\n",
    "import pandas as pd"
   ]
  },
  {
   "cell_type": "code",
   "execution_count": 20,
   "outputs": [],
   "source": [
    "headers = ['age', 'workclass', 'fnlwgt', 'education', 'education-num', 'marital-status', 'occupation', 'relationship', 'race', 'sex','capital-gain','capital-loss', 'hours-per-week', 'native-country', 'income']\n",
    "train_df = pd.read_csv('./data/adult.data', names=headers, skipinitialspace=True)\n",
    "\n",
    "test_df = pd.read_csv('./data/adult.test', names=headers, skipinitialspace=True)\n",
    "\n",
    "train_df = train_df.drop_duplicates()\n",
    "test_df = test_df.drop_duplicates()"
   ],
   "metadata": {
    "collapsed": false,
    "ExecuteTime": {
     "end_time": "2023-10-07T10:56:06.992681800Z",
     "start_time": "2023-10-07T10:56:06.871109700Z"
    }
   },
   "id": "6e64da05b1bc8269"
  },
  {
   "cell_type": "code",
   "execution_count": 21,
   "outputs": [
    {
     "name": "stdout",
     "output_type": "stream",
     "text": [
      "<class 'pandas.core.frame.DataFrame'>\n",
      "Int64Index: 32537 entries, 0 to 32560\n",
      "Data columns (total 14 columns):\n",
      " #   Column          Non-Null Count  Dtype \n",
      "---  ------          --------------  ----- \n",
      " 0   age             32537 non-null  int64 \n",
      " 1   workclass       30701 non-null  object\n",
      " 2   fnlwgt          32537 non-null  int64 \n",
      " 3   education       32537 non-null  object\n",
      " 4   education-num   32537 non-null  int64 \n",
      " 5   marital-status  32537 non-null  object\n",
      " 6   occupation      30694 non-null  object\n",
      " 7   relationship    32537 non-null  object\n",
      " 8   race            32537 non-null  object\n",
      " 9   sex             32537 non-null  object\n",
      " 10  capital-gain    32537 non-null  int64 \n",
      " 11  capital-loss    32537 non-null  int64 \n",
      " 12  hours-per-week  32537 non-null  int64 \n",
      " 13  native-country  31955 non-null  object\n",
      "dtypes: int64(6), object(8)\n",
      "memory usage: 3.7+ MB\n"
     ]
    }
   ],
   "source": [
    "# replace ? with NAN\n",
    "train_df[train_df == '?'] = np.nan\n",
    "test_df[test_df == '?'] = np.nan    \n",
    "\n",
    "X_train = train_df.drop(\"income\", axis=1)\n",
    "Y_train = train_df[\"income\"]\n",
    "X_test = test_df.drop(\"income\", axis=1)\n",
    "Y_test = test_df[\"income\"].str[:-1]\n",
    "categorical = ['workclass', 'education', 'marital-status', 'occupation', 'relationship', 'race', 'sex', 'native-country']\n",
    "X_train.info()\n",
    "#occupation 1843\n",
    "#workclass 1836\n",
    "#native-country 583"
   ],
   "metadata": {
    "collapsed": false,
    "ExecuteTime": {
     "end_time": "2023-10-07T10:56:07.076460100Z",
     "start_time": "2023-10-07T10:56:06.995672100Z"
    }
   },
   "id": "9050426ebbf3ae6a"
  },
  {
   "cell_type": "code",
   "execution_count": 22,
   "outputs": [],
   "source": [
    "from sklearn import model_selection\n",
    "from sklearn.impute import KNNImputer\n",
    "# preprocessing\n",
    "\n",
    "from sklearn import preprocessing\n",
    "from sklearn.preprocessing import OrdinalEncoder, OneHotEncoder\n",
    "\n",
    "def preprocess(train_data, test_data):\n",
    "    # categorical to numerical\n",
    "    features = headers[:-1]\n",
    "    categorical = ['workclass', 'education', 'marital-status', 'occupation', 'relationship', 'race', 'sex', 'native-country']\n",
    "    numerical = [col for col in features if col not in categorical]\n",
    "    \n",
    "    oe = OrdinalEncoder()\n",
    "    oe.fit(pd.concat([train_data[categorical],test_data[categorical]]))\n",
    "\n",
    "    train_data_oe = pd.DataFrame(oe.transform(train_data[categorical]), columns=categorical)    \n",
    "    test_data_oe  = pd.DataFrame(oe.transform(test_data[categorical]), columns=categorical)\n",
    "\n",
    "    train_data_oe.index = train_data.index\n",
    "    test_data_oe.index  = test_data.index\n",
    "    train_data.drop(columns=categorical,inplace=True)\n",
    "    test_data.drop(columns=categorical,inplace=True)\n",
    "    train_data = pd.concat([train_data, train_data_oe], axis=1) \n",
    "    test_data = pd.concat([test_data, test_data_oe], axis=1)\n",
    "\n",
    "    \n",
    "    # impute missing value   \n",
    "    imputer = KNNImputer(missing_values=np.nan)\n",
    "    train_data = imputer.fit_transform(train_data)\n",
    "    test_data = imputer.transform(test_data)\n",
    "    \n",
    "    imputed_headers = imputer.get_feature_names_out()\n",
    "\n",
    "    train_data = pd.DataFrame(train_data, columns=imputed_headers)\n",
    "    test_data = pd.DataFrame(test_data, columns=imputed_headers)\n",
    "\n",
    "    # inverse transform\n",
    "    train_data_cat = pd.DataFrame(oe.inverse_transform(train_data[categorical]), columns=categorical) \n",
    "    test_data_cat = pd.DataFrame(oe.inverse_transform(test_data[categorical]), columns=categorical) \n",
    "    \n",
    "    train_data_cat.index = train_data.index\n",
    "    test_data_cat.index = test_data.index   \n",
    "    train_data.drop(columns=categorical,inplace=True)\n",
    "    test_data.drop(columns=categorical,inplace=True)\n",
    "    train_data = pd.concat([train_data, train_data_cat], axis=1) \n",
    "    test_data = pd.concat([test_data, test_data_cat], axis=1)\n",
    "\n",
    "    # categorical to one hot\n",
    "    ohe = OneHotEncoder(sparse_output=False)\n",
    "    ohe.fit(pd.concat([train_data[categorical],test_data[categorical]]))\n",
    "\n",
    "    oh_headers = ohe.get_feature_names_out()\n",
    "\n",
    "    train_data_ohe = pd.DataFrame(ohe.transform(train_data[categorical]), columns=oh_headers)    \n",
    "    test_data_ohe  = pd.DataFrame(ohe.transform(test_data[categorical]), columns=oh_headers)\n",
    "    \n",
    "    train_data_ohe.index = train_data.index\n",
    "    test_data_ohe.index  = test_data.index\n",
    "    train_data.drop(columns=categorical,inplace=True)\n",
    "    test_data.drop(columns=categorical,inplace=True)\n",
    "\n",
    "    train_data = pd.concat([train_data, train_data_ohe], axis=1) \n",
    "    test_data = pd.concat([test_data, test_data_ohe], axis=1)\n",
    "\n",
    "    #standardize numerical features\n",
    "    scaler = preprocessing.StandardScaler()\n",
    "    scaler.fit(train_data[numerical])\n",
    "    train_data[numerical] = scaler.transform(train_data[numerical])\n",
    "    test_data[numerical] = scaler.transform(test_data[numerical])\n",
    "    # \n",
    "    # train_data_num.index = train_data.index\n",
    "    # test_data_num.index = test_data.index   \n",
    "    # train_data.drop(columns=numerical,inplace=True)\n",
    "    # test_data.drop(columns=numerical,inplace=True)\n",
    "    # train_data = pd.concat([train_data, train_data_num], axis=1) \n",
    "    # test_data = pd.concat([test_data, test_data_num], axis=1)\n",
    "    \n",
    "    return train_data, test_data"
   ],
   "metadata": {
    "collapsed": false,
    "ExecuteTime": {
     "end_time": "2023-10-07T10:56:07.087798Z",
     "start_time": "2023-10-07T10:56:07.076998400Z"
    }
   },
   "id": "ee223ae96b4f96bc"
  },
  {
   "cell_type": "code",
   "execution_count": 23,
   "outputs": [],
   "source": [
    "X_train,X_test = preprocess(X_train, X_test)"
   ],
   "metadata": {
    "collapsed": false,
    "ExecuteTime": {
     "end_time": "2023-10-07T10:56:16.119310500Z",
     "start_time": "2023-10-07T10:56:07.092730700Z"
    }
   },
   "id": "99d87a3660249eb1"
  },
  {
   "cell_type": "code",
   "execution_count": 24,
   "outputs": [
    {
     "name": "stdout",
     "output_type": "stream",
     "text": [
      "47 4681\n"
     ]
    }
   ],
   "source": [
    "from sklearn.tree import DecisionTreeClassifier\n",
    "dtc = DecisionTreeClassifier(random_state=42)\n",
    "dtc.fit(X_train, Y_train)\n",
    "tree = dtc.tree_\n",
    "print(tree.max_depth, tree.n_leaves)"
   ],
   "metadata": {
    "collapsed": false,
    "ExecuteTime": {
     "end_time": "2023-10-07T10:56:16.536396200Z",
     "start_time": "2023-10-07T10:56:16.121303300Z"
    }
   },
   "id": "72dfe5f0d18bcab0"
  },
  {
   "cell_type": "code",
   "execution_count": 25,
   "outputs": [
    {
     "data": {
      "text/plain": "{'criterion': 'entropy',\n 'max_depth': 20,\n 'max_features': None,\n 'max_leaf_nodes': 100,\n 'min_samples_leaf': 1,\n 'min_samples_split': 20,\n 'random_state': 42}"
     },
     "execution_count": 25,
     "metadata": {},
     "output_type": "execute_result"
    }
   ],
   "source": [
    "from sklearn.model_selection import GridSearchCV\n",
    "\n",
    "param_grid = {\n",
    "    'criterion':['gini', 'entropy', 'log_loss'], \n",
    "    'max_depth':[10, 20, 30, 40, 50],\n",
    "    'min_samples_split': [2, 5, 10, 20, 50],\n",
    "    'min_samples_leaf': [1, 2, 5, 10, 20, 50],\n",
    "    'max_features': ['sqrt', 'log2', None],\n",
    "    'max_leaf_nodes': [50, 100, 200, 500, 2000, 5000],\n",
    "    'random_state': [None, 42]\n",
    "}\n",
    "\n",
    "DTC_CV = GridSearchCV(estimator=DecisionTreeClassifier(),\n",
    "             param_grid=param_grid, scoring='balanced_accuracy')\n",
    "start_tuning = time.time()\n",
    "DTC_CV.fit(X_train, Y_train)\n",
    "end_tuning = time.time()\n",
    "DTC_CV.best_params_"
   ],
   "metadata": {
    "collapsed": false,
    "ExecuteTime": {
     "end_time": "2023-10-07T14:21:39.904285200Z",
     "start_time": "2023-10-07T10:56:16.566107100Z"
    }
   },
   "id": "89bed1b4b8a644c9"
  },
  {
   "cell_type": "code",
   "execution_count": 26,
   "outputs": [
    {
     "name": "stdout",
     "output_type": "stream",
     "text": [
      "BestDTC tuning time:  12323.356417417526\n",
      "BestDTC training time:  0.3066389560699463\n",
      "BestDTC test time:  0.022972822189331055\n",
      "balanced accuracy:  0.7815567489956236\n",
      "accuracy:  0.861759646104694\n"
     ]
    },
    {
     "data": {
      "text/plain": "['bestDTC.joblib']"
     },
     "execution_count": 26,
     "metadata": {},
     "output_type": "execute_result"
    }
   ],
   "source": [
    "from sklearn.metrics import balanced_accuracy_score, accuracy_score\n",
    "\n",
    "bestDTC = DTC_CV.best_estimator_\n",
    "start_training = time.time()\n",
    "bestDTC.fit(X_train, Y_train)\n",
    "end_training = time.time()\n",
    "\n",
    "Y_pred = bestDTC.predict(X_test)\n",
    "end_test = time.time()\n",
    "BAS = balanced_accuracy_score(Y_test, Y_pred)\n",
    "accuracy = accuracy_score(Y_test, Y_pred)\n",
    "print(\"BestDTC tuning time: \", end_tuning - start_tuning)\n",
    "print(\"BestDTC training time: \", end_training - start_training)\n",
    "print(\"BestDTC test time: \", end_test - end_training)\n",
    "print(\"balanced accuracy: \", BAS)\n",
    "print(\"accuracy: \", accuracy)\n",
    "\n",
    "from joblib import dump\n",
    "dump(bestDTC, 'bestDTC.joblib') "
   ],
   "metadata": {
    "collapsed": false,
    "ExecuteTime": {
     "end_time": "2023-10-07T14:21:40.338238200Z",
     "start_time": "2023-10-07T14:21:39.910667Z"
    }
   },
   "id": "6a84b0b511aacf91"
  },
  {
   "cell_type": "code",
   "execution_count": 27,
   "outputs": [
    {
     "data": {
      "text/plain": "{'n_neighbors': 10, 'p': 3, 'weights': 'distance'}"
     },
     "execution_count": 27,
     "metadata": {},
     "output_type": "execute_result"
    }
   ],
   "source": [
    "from sklearn.neighbors import KNeighborsClassifier\n",
    "from sklearn.model_selection import GridSearchCV\n",
    "from sklearn.metrics import balanced_accuracy_score, accuracy_score\n",
    "\n",
    "param_grid = {\n",
    "    'n_neighbors':[1, 2, 5, 10], \n",
    "    'weights': ['uniform', 'distance'],\n",
    "    'p': [1, 2, 3]\n",
    "}\n",
    "\n",
    "# from sklearn.preprocessing import LabelEncoder\n",
    "# le = LabelEncoder()\n",
    "# Y_train = le.fit_transform(Y_train)\n",
    "# Y_test = le.transform(Y_test)\n",
    "\n",
    "KNN_CV = GridSearchCV(estimator=KNeighborsClassifier(n_jobs=-1),\n",
    "             param_grid=param_grid, scoring='balanced_accuracy')\n",
    "start_tuning = time.time()\n",
    "KNN_CV.fit(X_train, Y_train)\n",
    "end_tuning = time.time()\n",
    "KNN_CV.best_params_"
   ],
   "metadata": {
    "collapsed": false,
    "ExecuteTime": {
     "end_time": "2023-10-07T14:35:07.614368700Z",
     "start_time": "2023-10-07T14:21:40.344219400Z"
    }
   },
   "id": "f957f5e5b4d82579"
  },
  {
   "cell_type": "code",
   "execution_count": 29,
   "outputs": [
    {
     "name": "stdout",
     "output_type": "stream",
     "text": [
      "bestKNN tuning time:  807.252690076828\n",
      "bestKNN training time:  0.03091144561767578\n",
      "bestKNN test time:  55.24993324279785\n",
      "balanced accuracy:  0.7578907194904048\n",
      "accuracy:  0.8382280658638486\n"
     ]
    },
    {
     "data": {
      "text/plain": "['bestKNN.joblib']"
     },
     "execution_count": 29,
     "metadata": {},
     "output_type": "execute_result"
    }
   ],
   "source": [
    "bestKNN = KNN_CV.best_estimator_\n",
    "start_training = time.time()\n",
    "bestKNN.fit(X_train, Y_train)\n",
    "end_training = time.time()\n",
    "\n",
    "Y_pred = bestKNN.predict(X_test)\n",
    "end_test = time.time()\n",
    "BAS = balanced_accuracy_score(Y_test, Y_pred)\n",
    "accuracy = accuracy_score(Y_test, Y_pred)\n",
    "print(\"bestKNN tuning time: \", end_tuning - start_tuning)\n",
    "print(\"bestKNN training time: \", end_training - start_training)\n",
    "print(\"bestKNN test time: \", end_test - end_training)\n",
    "print(\"balanced accuracy: \", BAS)\n",
    "print(\"accuracy: \", accuracy)\n",
    "\n",
    "from joblib import dump\n",
    "dump(bestKNN, 'bestKNN.joblib') "
   ],
   "metadata": {
    "collapsed": false,
    "ExecuteTime": {
     "end_time": "2023-10-07T15:09:31.819895400Z",
     "start_time": "2023-10-07T15:08:36.516112500Z"
    }
   },
   "id": "fa5be40a0381ee59"
  }
 ],
 "metadata": {
  "kernelspec": {
   "display_name": "Python 3",
   "language": "python",
   "name": "python3"
  },
  "language_info": {
   "codemirror_mode": {
    "name": "ipython",
    "version": 2
   },
   "file_extension": ".py",
   "mimetype": "text/x-python",
   "name": "python",
   "nbconvert_exporter": "python",
   "pygments_lexer": "ipython2",
   "version": "2.7.6"
  }
 },
 "nbformat": 4,
 "nbformat_minor": 5
}
