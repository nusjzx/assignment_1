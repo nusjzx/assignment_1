{
 "cells": [
  {
   "cell_type": "code",
   "execution_count": 220,
   "id": "initial_id",
   "metadata": {
    "collapsed": true,
    "ExecuteTime": {
     "end_time": "2023-10-03T09:51:34.845473Z",
     "start_time": "2023-10-03T09:51:34.832920Z"
    }
   },
   "outputs": [],
   "source": [
    "import numpy as np\n",
    "import pandas as pd"
   ]
  },
  {
   "cell_type": "code",
   "execution_count": 221,
   "outputs": [],
   "source": [
    "headers = ['age', 'workclass', 'fnlwgt', 'education', 'education-num', 'marital-status', 'occupation', 'relationship', 'race', 'sex','capital-gain','capital-loss', 'hours-per-week', 'native-country', 'income']\n",
    "train_df = pd.read_csv('./data/adult.data', names=headers, skipinitialspace=True)\n",
    "\n",
    "test_df = pd.read_csv('./data/adult.test', names=headers, skipinitialspace=True)\n",
    "\n",
    "train_df = train_df.drop_duplicates()\n",
    "test_df = test_df.drop_duplicates()"
   ],
   "metadata": {
    "collapsed": false,
    "ExecuteTime": {
     "end_time": "2023-10-03T09:51:35.002981Z",
     "start_time": "2023-10-03T09:51:34.842510Z"
    }
   },
   "id": "6e64da05b1bc8269"
  },
  {
   "cell_type": "code",
   "execution_count": 222,
   "outputs": [],
   "source": [
    "# replace ? with NAN\n",
    "train_df[train_df == '?'] = np.nan\n",
    "test_df[test_df == '?'] = np.nan    \n",
    "\n",
    "X_train = train_df.drop(\"income\", axis=1)\n",
    "Y_train = train_df[\"income\"]\n",
    "X_test = test_df.drop(\"income\", axis=1)\n",
    "Y_test = test_df[\"income\"].str[:-1]\n",
    "#occupation 1843\n",
    "#workclass 1836\n",
    "#native-country 583"
   ],
   "metadata": {
    "collapsed": false,
    "ExecuteTime": {
     "end_time": "2023-10-03T09:51:35.057053Z",
     "start_time": "2023-10-03T09:51:35.024478Z"
    }
   },
   "id": "9050426ebbf3ae6a"
  },
  {
   "cell_type": "code",
   "execution_count": 223,
   "outputs": [],
   "source": [
    "from sklearn import model_selection\n",
    "from sklearn.impute import KNNImputer\n",
    "# preprocessing\n",
    "\n",
    "from sklearn import preprocessing\n",
    "from sklearn.preprocessing import LabelEncoder, OneHotEncoder\n",
    "from sklearn.preprocessing import StandardScaler\n",
    "\n",
    "def preprocess(train_data, test_data):\n",
    "    # categorical to numerical\n",
    "    features = headers[:-1]\n",
    "    categorical = ['workclass', 'education', 'marital-status', 'occupation', 'relationship', 'race', 'sex', 'native-country']\n",
    "    numerical = [col for col in features if col not in categorical]\n",
    "    \n",
    "    oe = [None] * len(categorical)\n",
    "    for i, feature in enumerate(categorical):\n",
    "            oe[i] = LabelEncoder()\n",
    "            oe[i].fit(pd.concat([train_data[feature], test_data[feature]]))\n",
    "            train_data[feature] = oe[i].transform(train_data[feature])\n",
    "            test_data[feature] = oe[i].transform(test_data[feature])\n",
    "\n",
    "    # impute missing value   \n",
    "    imputer = KNNImputer(missing_values=np.nan)\n",
    "    train_data = imputer.fit_transform(train_data)\n",
    "    test_data = imputer.transform(test_data)\n",
    "\n",
    "    train_data = pd.DataFrame(train_data, columns = headers[:-1])\n",
    "    test_data = pd.DataFrame(test_data, columns = headers[:-1])\n",
    "    \n",
    "    # inverse transform\n",
    "    for i, feature in enumerate(categorical):\n",
    "        train_data[feature] = oe[i].inverse_transform(train_data[feature].astype(int))\n",
    "        test_data[feature] = oe[i].inverse_transform(test_data[feature].astype(int))\n",
    "        \n",
    "    # categorical to one hot\n",
    "    ohe = OneHotEncoder(sparse_output=False)\n",
    "    ohe.fit(pd.concat([train_data[categorical],test_data[categorical]]))\n",
    "    \n",
    "    oh_headers = ohe.get_feature_names_out(categorical)\n",
    "    \n",
    "    train_data_ohe = pd.DataFrame(ohe.transform(train_data[categorical]), columns=oh_headers)    \n",
    "    test_data_ohe  = pd.DataFrame(ohe.transform(test_data[categorical]), columns=oh_headers)\n",
    "\n",
    "    train_data.drop(columns=categorical,inplace=True)\n",
    "    test_data.drop(columns=categorical,inplace=True)\n",
    "    \n",
    "    train_data = pd.concat([train_data, train_data_ohe], axis=1) \n",
    "    test_data = pd.concat([test_data, test_data_ohe], axis=1)\n",
    "            \n",
    "    #standardize numerical features\n",
    "    scaler = preprocessing.StandardScaler()\n",
    "    scaler.fit(train_data[numerical])\n",
    "    train_data[numerical]=scaler.transform(train_data[numerical]) \n",
    "    test_data[numerical]=scaler.transform(test_data[numerical])\n",
    "    \n",
    "    return train_data, test_data"
   ],
   "metadata": {
    "collapsed": false,
    "ExecuteTime": {
     "end_time": "2023-10-03T09:51:35.072259Z",
     "start_time": "2023-10-03T09:51:35.058335Z"
    }
   },
   "id": "ee223ae96b4f96bc"
  },
  {
   "cell_type": "code",
   "execution_count": 224,
   "outputs": [
    {
     "data": {
      "text/plain": "            age    fnlwgt  education-num  capital-gain  capital-loss  \\\n0      0.030390 -1.063569       1.134777      0.148292     -0.216743   \n1      0.836973 -1.008668       1.134777     -0.145975     -0.216743   \n2     -0.042936  0.245040      -0.420679     -0.145975     -0.216743   \n3      1.056950  0.425752      -1.198407     -0.145975     -0.216743   \n4     -0.776193  1.408066       1.134777     -0.145975     -0.216743   \n...         ...       ...            ...           ...           ...   \n32532 -0.849519  0.639678       0.745913     -0.145975     -0.216743   \n32533  0.103716 -0.335436      -0.420679     -0.145975     -0.216743   \n32534  1.423579 -0.358779      -0.420679     -0.145975     -0.216743   \n32535 -1.216148  0.110930      -0.420679     -0.145975     -0.216743   \n32536  0.983625  0.929812      -0.420679      1.887635     -0.216743   \n\n       hours-per-week  workclass_Federal-gov  workclass_Local-gov  \\\n0           -0.035664                    0.0                  0.0   \n1           -2.222483                    0.0                  0.0   \n2           -0.035664                    0.0                  0.0   \n3           -0.035664                    0.0                  0.0   \n4           -0.035664                    0.0                  0.0   \n...               ...                    ...                  ...   \n32532       -0.197650                    0.0                  0.0   \n32533       -0.035664                    0.0                  0.0   \n32534       -0.035664                    0.0                  0.0   \n32535       -1.655530                    0.0                  0.0   \n32536       -0.035664                    0.0                  0.0   \n\n       workclass_Never-worked  workclass_Private  ...  \\\n0                         0.0                0.0  ...   \n1                         0.0                0.0  ...   \n2                         0.0                1.0  ...   \n3                         0.0                1.0  ...   \n4                         0.0                1.0  ...   \n...                       ...                ...  ...   \n32532                     0.0                1.0  ...   \n32533                     0.0                1.0  ...   \n32534                     0.0                1.0  ...   \n32535                     0.0                1.0  ...   \n32536                     0.0                0.0  ...   \n\n       native-country_Puerto-Rico  native-country_Scotland  \\\n0                             0.0                      0.0   \n1                             0.0                      0.0   \n2                             0.0                      0.0   \n3                             0.0                      0.0   \n4                             0.0                      0.0   \n...                           ...                      ...   \n32532                         0.0                      0.0   \n32533                         0.0                      0.0   \n32534                         0.0                      0.0   \n32535                         0.0                      0.0   \n32536                         0.0                      0.0   \n\n       native-country_South  native-country_Taiwan  native-country_Thailand  \\\n0                       0.0                    0.0                      0.0   \n1                       0.0                    0.0                      0.0   \n2                       0.0                    0.0                      0.0   \n3                       0.0                    0.0                      0.0   \n4                       0.0                    0.0                      0.0   \n...                     ...                    ...                      ...   \n32532                   0.0                    0.0                      0.0   \n32533                   0.0                    0.0                      0.0   \n32534                   0.0                    0.0                      0.0   \n32535                   0.0                    0.0                      0.0   \n32536                   0.0                    0.0                      0.0   \n\n       native-country_Trinadad&Tobago  native-country_United-States  \\\n0                                 0.0                           1.0   \n1                                 0.0                           1.0   \n2                                 0.0                           1.0   \n3                                 0.0                           1.0   \n4                                 0.0                           0.0   \n...                               ...                           ...   \n32532                             0.0                           1.0   \n32533                             0.0                           1.0   \n32534                             0.0                           1.0   \n32535                             0.0                           1.0   \n32536                             0.0                           1.0   \n\n       native-country_Vietnam  native-country_Yugoslavia  native-country_nan  \n0                         0.0                        0.0                 0.0  \n1                         0.0                        0.0                 0.0  \n2                         0.0                        0.0                 0.0  \n3                         0.0                        0.0                 0.0  \n4                         0.0                        0.0                 0.0  \n...                       ...                        ...                 ...  \n32532                     0.0                        0.0                 0.0  \n32533                     0.0                        0.0                 0.0  \n32534                     0.0                        0.0                 0.0  \n32535                     0.0                        0.0                 0.0  \n32536                     0.0                        0.0                 0.0  \n\n[32537 rows x 108 columns]",
      "text/html": "<div>\n<style scoped>\n    .dataframe tbody tr th:only-of-type {\n        vertical-align: middle;\n    }\n\n    .dataframe tbody tr th {\n        vertical-align: top;\n    }\n\n    .dataframe thead th {\n        text-align: right;\n    }\n</style>\n<table border=\"1\" class=\"dataframe\">\n  <thead>\n    <tr style=\"text-align: right;\">\n      <th></th>\n      <th>age</th>\n      <th>fnlwgt</th>\n      <th>education-num</th>\n      <th>capital-gain</th>\n      <th>capital-loss</th>\n      <th>hours-per-week</th>\n      <th>workclass_Federal-gov</th>\n      <th>workclass_Local-gov</th>\n      <th>workclass_Never-worked</th>\n      <th>workclass_Private</th>\n      <th>...</th>\n      <th>native-country_Puerto-Rico</th>\n      <th>native-country_Scotland</th>\n      <th>native-country_South</th>\n      <th>native-country_Taiwan</th>\n      <th>native-country_Thailand</th>\n      <th>native-country_Trinadad&amp;Tobago</th>\n      <th>native-country_United-States</th>\n      <th>native-country_Vietnam</th>\n      <th>native-country_Yugoslavia</th>\n      <th>native-country_nan</th>\n    </tr>\n  </thead>\n  <tbody>\n    <tr>\n      <th>0</th>\n      <td>0.030390</td>\n      <td>-1.063569</td>\n      <td>1.134777</td>\n      <td>0.148292</td>\n      <td>-0.216743</td>\n      <td>-0.035664</td>\n      <td>0.0</td>\n      <td>0.0</td>\n      <td>0.0</td>\n      <td>0.0</td>\n      <td>...</td>\n      <td>0.0</td>\n      <td>0.0</td>\n      <td>0.0</td>\n      <td>0.0</td>\n      <td>0.0</td>\n      <td>0.0</td>\n      <td>1.0</td>\n      <td>0.0</td>\n      <td>0.0</td>\n      <td>0.0</td>\n    </tr>\n    <tr>\n      <th>1</th>\n      <td>0.836973</td>\n      <td>-1.008668</td>\n      <td>1.134777</td>\n      <td>-0.145975</td>\n      <td>-0.216743</td>\n      <td>-2.222483</td>\n      <td>0.0</td>\n      <td>0.0</td>\n      <td>0.0</td>\n      <td>0.0</td>\n      <td>...</td>\n      <td>0.0</td>\n      <td>0.0</td>\n      <td>0.0</td>\n      <td>0.0</td>\n      <td>0.0</td>\n      <td>0.0</td>\n      <td>1.0</td>\n      <td>0.0</td>\n      <td>0.0</td>\n      <td>0.0</td>\n    </tr>\n    <tr>\n      <th>2</th>\n      <td>-0.042936</td>\n      <td>0.245040</td>\n      <td>-0.420679</td>\n      <td>-0.145975</td>\n      <td>-0.216743</td>\n      <td>-0.035664</td>\n      <td>0.0</td>\n      <td>0.0</td>\n      <td>0.0</td>\n      <td>1.0</td>\n      <td>...</td>\n      <td>0.0</td>\n      <td>0.0</td>\n      <td>0.0</td>\n      <td>0.0</td>\n      <td>0.0</td>\n      <td>0.0</td>\n      <td>1.0</td>\n      <td>0.0</td>\n      <td>0.0</td>\n      <td>0.0</td>\n    </tr>\n    <tr>\n      <th>3</th>\n      <td>1.056950</td>\n      <td>0.425752</td>\n      <td>-1.198407</td>\n      <td>-0.145975</td>\n      <td>-0.216743</td>\n      <td>-0.035664</td>\n      <td>0.0</td>\n      <td>0.0</td>\n      <td>0.0</td>\n      <td>1.0</td>\n      <td>...</td>\n      <td>0.0</td>\n      <td>0.0</td>\n      <td>0.0</td>\n      <td>0.0</td>\n      <td>0.0</td>\n      <td>0.0</td>\n      <td>1.0</td>\n      <td>0.0</td>\n      <td>0.0</td>\n      <td>0.0</td>\n    </tr>\n    <tr>\n      <th>4</th>\n      <td>-0.776193</td>\n      <td>1.408066</td>\n      <td>1.134777</td>\n      <td>-0.145975</td>\n      <td>-0.216743</td>\n      <td>-0.035664</td>\n      <td>0.0</td>\n      <td>0.0</td>\n      <td>0.0</td>\n      <td>1.0</td>\n      <td>...</td>\n      <td>0.0</td>\n      <td>0.0</td>\n      <td>0.0</td>\n      <td>0.0</td>\n      <td>0.0</td>\n      <td>0.0</td>\n      <td>0.0</td>\n      <td>0.0</td>\n      <td>0.0</td>\n      <td>0.0</td>\n    </tr>\n    <tr>\n      <th>...</th>\n      <td>...</td>\n      <td>...</td>\n      <td>...</td>\n      <td>...</td>\n      <td>...</td>\n      <td>...</td>\n      <td>...</td>\n      <td>...</td>\n      <td>...</td>\n      <td>...</td>\n      <td>...</td>\n      <td>...</td>\n      <td>...</td>\n      <td>...</td>\n      <td>...</td>\n      <td>...</td>\n      <td>...</td>\n      <td>...</td>\n      <td>...</td>\n      <td>...</td>\n      <td>...</td>\n    </tr>\n    <tr>\n      <th>32532</th>\n      <td>-0.849519</td>\n      <td>0.639678</td>\n      <td>0.745913</td>\n      <td>-0.145975</td>\n      <td>-0.216743</td>\n      <td>-0.197650</td>\n      <td>0.0</td>\n      <td>0.0</td>\n      <td>0.0</td>\n      <td>1.0</td>\n      <td>...</td>\n      <td>0.0</td>\n      <td>0.0</td>\n      <td>0.0</td>\n      <td>0.0</td>\n      <td>0.0</td>\n      <td>0.0</td>\n      <td>1.0</td>\n      <td>0.0</td>\n      <td>0.0</td>\n      <td>0.0</td>\n    </tr>\n    <tr>\n      <th>32533</th>\n      <td>0.103716</td>\n      <td>-0.335436</td>\n      <td>-0.420679</td>\n      <td>-0.145975</td>\n      <td>-0.216743</td>\n      <td>-0.035664</td>\n      <td>0.0</td>\n      <td>0.0</td>\n      <td>0.0</td>\n      <td>1.0</td>\n      <td>...</td>\n      <td>0.0</td>\n      <td>0.0</td>\n      <td>0.0</td>\n      <td>0.0</td>\n      <td>0.0</td>\n      <td>0.0</td>\n      <td>1.0</td>\n      <td>0.0</td>\n      <td>0.0</td>\n      <td>0.0</td>\n    </tr>\n    <tr>\n      <th>32534</th>\n      <td>1.423579</td>\n      <td>-0.358779</td>\n      <td>-0.420679</td>\n      <td>-0.145975</td>\n      <td>-0.216743</td>\n      <td>-0.035664</td>\n      <td>0.0</td>\n      <td>0.0</td>\n      <td>0.0</td>\n      <td>1.0</td>\n      <td>...</td>\n      <td>0.0</td>\n      <td>0.0</td>\n      <td>0.0</td>\n      <td>0.0</td>\n      <td>0.0</td>\n      <td>0.0</td>\n      <td>1.0</td>\n      <td>0.0</td>\n      <td>0.0</td>\n      <td>0.0</td>\n    </tr>\n    <tr>\n      <th>32535</th>\n      <td>-1.216148</td>\n      <td>0.110930</td>\n      <td>-0.420679</td>\n      <td>-0.145975</td>\n      <td>-0.216743</td>\n      <td>-1.655530</td>\n      <td>0.0</td>\n      <td>0.0</td>\n      <td>0.0</td>\n      <td>1.0</td>\n      <td>...</td>\n      <td>0.0</td>\n      <td>0.0</td>\n      <td>0.0</td>\n      <td>0.0</td>\n      <td>0.0</td>\n      <td>0.0</td>\n      <td>1.0</td>\n      <td>0.0</td>\n      <td>0.0</td>\n      <td>0.0</td>\n    </tr>\n    <tr>\n      <th>32536</th>\n      <td>0.983625</td>\n      <td>0.929812</td>\n      <td>-0.420679</td>\n      <td>1.887635</td>\n      <td>-0.216743</td>\n      <td>-0.035664</td>\n      <td>0.0</td>\n      <td>0.0</td>\n      <td>0.0</td>\n      <td>0.0</td>\n      <td>...</td>\n      <td>0.0</td>\n      <td>0.0</td>\n      <td>0.0</td>\n      <td>0.0</td>\n      <td>0.0</td>\n      <td>0.0</td>\n      <td>1.0</td>\n      <td>0.0</td>\n      <td>0.0</td>\n      <td>0.0</td>\n    </tr>\n  </tbody>\n</table>\n<p>32537 rows × 108 columns</p>\n</div>"
     },
     "execution_count": 224,
     "metadata": {},
     "output_type": "execute_result"
    }
   ],
   "source": [
    "X_train,X_test = preprocess(X_train, X_test)\n",
    "X_train"
   ],
   "metadata": {
    "collapsed": false,
    "ExecuteTime": {
     "end_time": "2023-10-03T09:51:37.105002Z",
     "start_time": "2023-10-03T09:51:36.633172Z"
    }
   },
   "id": "99d87a3660249eb1"
  },
  {
   "cell_type": "code",
   "execution_count": 254,
   "outputs": [
    {
     "data": {
      "text/plain": "array([1.49000316e-01, 1.07310976e-01, 9.81836632e-02, 9.67011753e-02,\n       8.82783373e-02, 8.05718509e-02, 5.83567535e-02, 2.88681794e-02,\n       2.53564623e-02, 2.32822635e-02, 1.86533297e-02, 1.61925125e-02,\n       1.58821421e-02, 1.38851155e-02, 1.24101825e-02, 1.09433934e-02,\n       1.04929856e-02, 1.00601222e-02, 9.69794352e-03, 9.63529461e-03,\n       8.36800824e-03, 8.14282611e-03, 7.34641967e-03, 6.55138804e-03,\n       5.61944146e-03, 5.43201352e-03, 4.85507143e-03, 4.45945935e-03,\n       4.33241095e-03, 4.16847451e-03, 3.95120067e-03, 3.56369992e-03,\n       3.52146290e-03, 3.29546336e-03, 3.22953870e-03, 3.15274045e-03,\n       2.96792621e-03, 2.89983420e-03, 2.73638532e-03, 2.47574290e-03,\n       2.41086375e-03, 1.83853451e-03, 1.79740663e-03, 1.75362234e-03,\n       1.59522826e-03, 1.39254592e-03, 1.36013183e-03, 1.32800047e-03,\n       1.29045201e-03, 1.10906889e-03, 8.93724694e-04, 8.31900628e-04,\n       5.71575908e-04, 4.88255319e-04, 4.50608163e-04, 3.86932026e-04,\n       3.41735204e-04, 3.24074880e-04, 3.15947470e-04, 2.92405655e-04,\n       2.75923910e-04, 2.69244343e-04, 2.46682320e-04, 2.27014351e-04,\n       2.22231863e-04, 2.07357809e-04, 2.04796678e-04, 1.91694821e-04,\n       1.84228608e-04, 1.78000320e-04, 1.75558558e-04, 1.73296899e-04,\n       1.63202393e-04, 1.41991153e-04, 1.25974151e-04, 1.23105394e-04,\n       1.08364583e-04, 1.00743460e-04, 9.32356298e-05, 8.75359914e-05,\n       8.45947303e-05, 8.16918562e-05, 7.20713167e-05, 7.15109846e-05,\n       5.89202419e-05, 5.70891046e-05, 5.46765536e-05, 5.25445505e-05,\n       5.18279526e-05, 4.72967437e-05, 4.64616936e-05, 4.12408654e-05,\n       3.86655346e-05, 3.79285186e-05, 3.53794868e-05, 3.16197524e-05,\n       2.77888878e-05, 2.98716441e-06, 2.93851310e-32, 9.50775450e-34,\n       9.50775450e-34, 9.50775450e-34, 9.50775450e-34, 9.50775450e-34,\n       9.50775450e-34, 9.50775450e-34, 9.50775450e-34, 9.50775450e-34])"
     },
     "execution_count": 254,
     "metadata": {},
     "output_type": "execute_result"
    }
   ],
   "source": [
    "from sklearn.decomposition import PCA\n",
    "pca = PCA()\n",
    "X_train = pca.fit_transform(X_train)\n",
    "pca.explained_variance_ratio_"
   ],
   "metadata": {
    "collapsed": false,
    "ExecuteTime": {
     "end_time": "2023-10-04T13:13:50.212417Z",
     "start_time": "2023-10-04T13:13:49.642780Z"
    }
   },
   "id": "271180df78fd6273"
  },
  {
   "cell_type": "code",
   "execution_count": null,
   "outputs": [],
   "source": [
    "from sklearn.model_selection import GridSearchCV, ParameterGrid\n",
    "from sklearn.tree import DecisionTreeClassifier\n",
    "\n",
    "param_grid = {\n",
    "    'criterion':['gini', 'entropy', 'log_loss'], \n",
    "    'max_depth':[10, 20, 30, 40, 50],\n",
    "    'min_samples_leaf': [1, 2, 5, 10, 20, 50],\n",
    "    'max_leaf_nodes': [50, 100, 200, 500, 2000, 4000, 5000]\n",
    "}\n",
    "\n",
    "clf = GridSearchCV(estimator=DecisionTreeClassifier(random_state=42),\n",
    "             param_grid=param_grid, scoring='balanced_accuracy')\n",
    "clf.fit(X_train, Y_train)"
   ],
   "metadata": {
    "collapsed": false,
    "is_executing": true,
    "ExecuteTime": {
     "start_time": "2023-10-04T13:20:54.050931Z"
    }
   },
   "id": "89bed1b4b8a644c9"
  },
  {
   "cell_type": "code",
   "execution_count": 239,
   "outputs": [
    {
     "data": {
      "text/plain": "['bestDTC.joblib']"
     },
     "execution_count": 239,
     "metadata": {},
     "output_type": "execute_result"
    }
   ],
   "source": [
    "bestDTC = clf.best_estimator_\n",
    "from joblib import dump, load\n",
    "dump(bestDTC, 'bestDTC.joblib') "
   ],
   "metadata": {
    "collapsed": false,
    "ExecuteTime": {
     "end_time": "2023-10-04T06:41:31.055971Z",
     "start_time": "2023-10-04T06:41:31.029759Z"
    }
   },
   "id": "6a84b0b511aacf91"
  },
  {
   "cell_type": "code",
   "execution_count": 251,
   "outputs": [],
   "source": [
    "bestDTC = load('bestDTC.joblib') \n",
    "Y_pred = bestDTC.predict(X_test)"
   ],
   "metadata": {
    "collapsed": false,
    "ExecuteTime": {
     "end_time": "2023-10-04T13:07:21.199188Z",
     "start_time": "2023-10-04T13:07:21.064034Z"
    }
   },
   "id": "da20844b304da004"
  },
  {
   "cell_type": "code",
   "execution_count": 253,
   "outputs": [
    {
     "data": {
      "text/plain": "0.7808880641629528"
     },
     "execution_count": 253,
     "metadata": {},
     "output_type": "execute_result"
    }
   ],
   "source": [
    "from sklearn.metrics import balanced_accuracy_score\n",
    "\n",
    "BAS = balanced_accuracy_score(Y_test, Y_pred)\n",
    "BAS"
   ],
   "metadata": {
    "collapsed": false,
    "ExecuteTime": {
     "end_time": "2023-10-04T13:09:23.423148Z",
     "start_time": "2023-10-04T13:09:23.361050Z"
    }
   },
   "id": "ae1e29999df5bfe7"
  }
 ],
 "metadata": {
  "kernelspec": {
   "display_name": "Python 3",
   "language": "python",
   "name": "python3"
  },
  "language_info": {
   "codemirror_mode": {
    "name": "ipython",
    "version": 2
   },
   "file_extension": ".py",
   "mimetype": "text/x-python",
   "name": "python",
   "nbconvert_exporter": "python",
   "pygments_lexer": "ipython2",
   "version": "2.7.6"
  }
 },
 "nbformat": 4,
 "nbformat_minor": 5
}
