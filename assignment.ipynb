{
 "cells": [
  {
   "cell_type": "code",
   "execution_count": 299,
   "id": "initial_id",
   "metadata": {
    "collapsed": true,
    "ExecuteTime": {
     "end_time": "2023-10-05T15:25:55.177966Z",
     "start_time": "2023-10-05T15:25:55.174328Z"
    }
   },
   "outputs": [],
   "source": [
    "import time\n",
    "\n",
    "import numpy as np\n",
    "import pandas as pd"
   ]
  },
  {
   "cell_type": "code",
   "execution_count": 300,
   "outputs": [],
   "source": [
    "headers = ['age', 'workclass', 'fnlwgt', 'education', 'education-num', 'marital-status', 'occupation', 'relationship', 'race', 'sex','capital-gain','capital-loss', 'hours-per-week', 'native-country', 'income']\n",
    "train_df = pd.read_csv('./data/adult.data', names=headers, skipinitialspace=True)\n",
    "\n",
    "test_df = pd.read_csv('./data/adult.test', names=headers, skipinitialspace=True)\n",
    "\n",
    "train_df = train_df.drop_duplicates()\n",
    "test_df = test_df.drop_duplicates()"
   ],
   "metadata": {
    "collapsed": false,
    "ExecuteTime": {
     "end_time": "2023-10-05T15:25:55.517284Z",
     "start_time": "2023-10-05T15:25:55.211145Z"
    }
   },
   "id": "6e64da05b1bc8269"
  },
  {
   "cell_type": "code",
   "execution_count": 301,
   "outputs": [],
   "source": [
    "# replace ? with NAN\n",
    "train_df[train_df == '?'] = np.nan\n",
    "test_df[test_df == '?'] = np.nan    \n",
    "\n",
    "X_train = train_df.drop(\"income\", axis=1)\n",
    "Y_train = train_df[\"income\"]\n",
    "X_test = test_df.drop(\"income\", axis=1)\n",
    "Y_test = test_df[\"income\"].str[:-1]\n",
    "#occupation 1843\n",
    "#workclass 1836\n",
    "#native-country 583"
   ],
   "metadata": {
    "collapsed": false,
    "ExecuteTime": {
     "end_time": "2023-10-05T15:25:55.653467Z",
     "start_time": "2023-10-05T15:25:55.547167Z"
    }
   },
   "id": "9050426ebbf3ae6a"
  },
  {
   "cell_type": "code",
   "execution_count": 302,
   "outputs": [],
   "source": [
    "from sklearn import model_selection\n",
    "from sklearn.impute import KNNImputer\n",
    "# preprocessing\n",
    "\n",
    "from sklearn import preprocessing\n",
    "from sklearn.preprocessing import LabelEncoder, OneHotEncoder\n",
    "from sklearn.preprocessing import StandardScaler\n",
    "\n",
    "def preprocess(train_data, test_data):\n",
    "    # categorical to numerical\n",
    "    features = headers[:-1]\n",
    "    categorical = ['workclass', 'education', 'marital-status', 'occupation', 'relationship', 'race', 'sex', 'native-country']\n",
    "    numerical = [col for col in features if col not in categorical]\n",
    "    \n",
    "    oe = [None] * len(categorical)\n",
    "    for i, feature in enumerate(categorical):\n",
    "            oe[i] = LabelEncoder()\n",
    "            oe[i].fit(pd.concat([train_data[feature], test_data[feature]]))\n",
    "            train_data[feature] = oe[i].transform(train_data[feature])\n",
    "            test_data[feature] = oe[i].transform(test_data[feature])\n",
    "\n",
    "    # impute missing value   \n",
    "    imputer = KNNImputer(missing_values=np.nan)\n",
    "    train_data = imputer.fit_transform(train_data)\n",
    "    test_data = imputer.transform(test_data)\n",
    "\n",
    "    train_data = pd.DataFrame(train_data, columns = headers[:-1])\n",
    "    test_data = pd.DataFrame(test_data, columns = headers[:-1])\n",
    "    \n",
    "    # inverse transform\n",
    "    for i, feature in enumerate(categorical):\n",
    "        train_data[feature] = oe[i].inverse_transform(train_data[feature].astype(int))\n",
    "        test_data[feature] = oe[i].inverse_transform(test_data[feature].astype(int))\n",
    "        \n",
    "    # categorical to one hot\n",
    "    ohe = OneHotEncoder(sparse_output=False)\n",
    "    ohe.fit(pd.concat([train_data[categorical],test_data[categorical]]))\n",
    "    \n",
    "    oh_headers = ohe.get_feature_names_out(categorical)\n",
    "    \n",
    "    train_data_ohe = pd.DataFrame(ohe.transform(train_data[categorical]), columns=oh_headers)    \n",
    "    test_data_ohe  = pd.DataFrame(ohe.transform(test_data[categorical]), columns=oh_headers)\n",
    "\n",
    "    train_data.drop(columns=categorical,inplace=True)\n",
    "    test_data.drop(columns=categorical,inplace=True)\n",
    "    \n",
    "    train_data = pd.concat([train_data, train_data_ohe], axis=1) \n",
    "    test_data = pd.concat([test_data, test_data_ohe], axis=1)\n",
    "            \n",
    "    #standardize numerical features\n",
    "    scaler = preprocessing.StandardScaler()\n",
    "    scaler.fit(train_data[numerical])\n",
    "    train_data[numerical]=scaler.transform(train_data[numerical]) \n",
    "    test_data[numerical]=scaler.transform(test_data[numerical])\n",
    "    \n",
    "    return train_data, test_data"
   ],
   "metadata": {
    "collapsed": false,
    "ExecuteTime": {
     "end_time": "2023-10-05T15:25:55.688696Z",
     "start_time": "2023-10-05T15:25:55.685609Z"
    }
   },
   "id": "ee223ae96b4f96bc"
  },
  {
   "cell_type": "code",
   "execution_count": 303,
   "outputs": [],
   "source": [
    "X_train,X_test = preprocess(X_train, X_test)"
   ],
   "metadata": {
    "collapsed": false,
    "ExecuteTime": {
     "end_time": "2023-10-05T15:25:56.328599Z",
     "start_time": "2023-10-05T15:25:55.696891Z"
    }
   },
   "id": "99d87a3660249eb1"
  },
  {
   "cell_type": "code",
   "execution_count": 304,
   "outputs": [
    {
     "name": "stdout",
     "output_type": "stream",
     "text": [
      "48 4666\n"
     ]
    }
   ],
   "source": [
    "from sklearn.tree import DecisionTreeClassifier\n",
    "dtc = DecisionTreeClassifier(random_state=42)\n",
    "dtc.fit(X_train, Y_train)\n",
    "tree = dtc.tree_\n",
    "print(tree.max_depth, tree.n_leaves)"
   ],
   "metadata": {
    "collapsed": false,
    "ExecuteTime": {
     "end_time": "2023-10-05T15:25:56.907205Z",
     "start_time": "2023-10-05T15:25:56.344853Z"
    }
   },
   "id": "72dfe5f0d18bcab0"
  },
  {
   "cell_type": "code",
   "execution_count": 305,
   "outputs": [
    {
     "data": {
      "text/plain": "{'criterion': 'entropy',\n 'max_depth': 20,\n 'max_features': None,\n 'max_leaf_nodes': 100,\n 'min_samples_leaf': 1,\n 'min_samples_split': 2,\n 'random_state': None}"
     },
     "execution_count": 305,
     "metadata": {},
     "output_type": "execute_result"
    }
   ],
   "source": [
    "from sklearn.model_selection import GridSearchCV\n",
    "\n",
    "param_grid = {\n",
    "    'criterion':['gini', 'entropy', 'log_loss'], \n",
    "    'max_depth':[10, 20, 30, 40, 50],\n",
    "    'min_samples_split': [2, 5, 10, 20, 50],\n",
    "    'min_samples_leaf': [1, 2, 5, 10, 20, 50],\n",
    "    'max_features': ['sqrt', 'log2', None],\n",
    "    'max_leaf_nodes': [50, 100, 200, 500, 2000, 5000],\n",
    "    'random_state': [None, 42]\n",
    "}\n",
    "\n",
    "DTC_CV = GridSearchCV(estimator=DecisionTreeClassifier(),\n",
    "             param_grid=param_grid, scoring='balanced_accuracy')\n",
    "start_tuning = time.time()\n",
    "DTC_CV.fit(X_train, Y_train)\n",
    "end_tuning = time.time()\n",
    "DTC_CV.best_params_"
   ],
   "metadata": {
    "collapsed": false,
    "ExecuteTime": {
     "end_time": "2023-10-05T19:32:32.410453Z",
     "start_time": "2023-10-05T15:25:56.982821Z"
    }
   },
   "id": "89bed1b4b8a644c9"
  },
  {
   "cell_type": "code",
   "execution_count": 306,
   "outputs": [
    {
     "name": "stdout",
     "output_type": "stream",
     "text": [
      "BestDTC tuning time:  14795.254892587662\n",
      "BestDTC training time:  0.5203840732574463\n",
      "balanced accuracy:  0.7694522084986376\n",
      "accuracy:  0.8609609240599656\n"
     ]
    },
    {
     "data": {
      "text/plain": "['bestDTC.joblib']"
     },
     "execution_count": 306,
     "metadata": {},
     "output_type": "execute_result"
    }
   ],
   "source": [
    "from sklearn.metrics import balanced_accuracy_score, accuracy_score\n",
    "\n",
    "bestDTC = DTC_CV.best_estimator_\n",
    "start_training = time.time()\n",
    "bestDTC.fit(X_train, Y_train)\n",
    "end_training = time.time()\n",
    "\n",
    "Y_pred = bestDTC.predict(X_test)\n",
    "end_test = time.time()\n",
    "BAS = balanced_accuracy_score(Y_test, Y_pred)\n",
    "accuracy = accuracy_score(Y_test, Y_pred)\n",
    "print(\"BestDTC tuning time: \", end_tuning - start_tuning)\n",
    "print(\"BestDTC training time: \", end_training - start_training)\n",
    "print(\"BestDTC test time: \", end_test - end_training)\n",
    "print(\"balanced accuracy: \", BAS)\n",
    "print(\"accuracy: \", accuracy)\n",
    "\n",
    "from joblib import dump\n",
    "dump(bestDTC, 'bestDTC.joblib') "
   ],
   "metadata": {
    "collapsed": false,
    "ExecuteTime": {
     "end_time": "2023-10-06T03:06:32.502295Z",
     "start_time": "2023-10-06T03:06:31.295419Z"
    }
   },
   "id": "6a84b0b511aacf91"
  },
  {
   "cell_type": "code",
   "execution_count": null,
   "outputs": [],
   "source": [
    "from sklearn.svm import SVC\n",
    "\n",
    "param_grid = {\n",
    "    'kernel':['rbf', 'poly', 'sigmoid'], \n",
    "    'C': [0.001, 0.01, 0.1, 1, 10, 100],\n",
    "    'gamma': [0.001, 0.01, 0.1, 1, 10, 100]\n",
    "}\n",
    "\n",
    "SVC_CV = GridSearchCV(estimator=SVC(),\n",
    "             param_grid=param_grid, scoring='balanced_accuracy')\n",
    "start_tuning = time.time()\n",
    "SVC_CV.fit(X_train, Y_train)\n",
    "end_tuning = time.time()\n",
    "SVC_CV.best_params_"
   ],
   "metadata": {
    "collapsed": false,
    "is_executing": true,
    "ExecuteTime": {
     "start_time": "2023-10-06T03:13:25.311872Z"
    }
   },
   "id": "b123d4345ff69c66"
  },
  {
   "cell_type": "code",
   "execution_count": null,
   "outputs": [],
   "source": [
    "bestSVC = SVC_CV.best_estimator_\n",
    "start_training = time.time()\n",
    "bestSVC.fit(X_train, Y_train)\n",
    "end_training = time.time()\n",
    "\n",
    "Y_pred = bestSVC.predict(X_test)\n",
    "end_test = time.time()\n",
    "BAS = balanced_accuracy_score(Y_test, Y_pred)\n",
    "accuracy = accuracy_score(Y_test, Y_pred)\n",
    "print(\"BestSVC tuning time: \", end_tuning - start_tuning)\n",
    "print(\"BestSCC training time: \", end_training - start_training)\n",
    "print(\"BestSVC test time: \", end_test - end_training)\n",
    "print(\"balanced accuracy: \", BAS)\n",
    "print(\"accuracy: \", accuracy)\n",
    "\n",
    "from joblib import dump\n",
    "dump(bestDTC, 'bestSVC.joblib') "
   ],
   "metadata": {
    "collapsed": false
   },
   "id": "f27f8279dcc7b446"
  }
 ],
 "metadata": {
  "kernelspec": {
   "display_name": "Python 3",
   "language": "python",
   "name": "python3"
  },
  "language_info": {
   "codemirror_mode": {
    "name": "ipython",
    "version": 2
   },
   "file_extension": ".py",
   "mimetype": "text/x-python",
   "name": "python",
   "nbconvert_exporter": "python",
   "pygments_lexer": "ipython2",
   "version": "2.7.6"
  }
 },
 "nbformat": 4,
 "nbformat_minor": 5
}
