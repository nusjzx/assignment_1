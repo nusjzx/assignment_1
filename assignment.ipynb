{
 "cells": [
  {
   "cell_type": "code",
   "execution_count": 121,
   "id": "initial_id",
   "metadata": {
    "collapsed": true,
    "ExecuteTime": {
     "end_time": "2023-10-02T11:15:10.693052Z",
     "start_time": "2023-10-02T11:15:10.688292Z"
    }
   },
   "outputs": [],
   "source": [
    "import numpy as np\n",
    "import pandas as pd"
   ]
  },
  {
   "cell_type": "code",
   "execution_count": 122,
   "outputs": [],
   "source": [
    "headers = ['age', 'workclass', 'fnlwgt', 'education', 'education-num', 'marital-status', 'occupation', 'relationship', 'race', 'sex','capital-gain','capital-loss', 'hours-per-week', 'native-country', 'income']\n",
    "train_df = pd.read_csv('./data/adult.data', names=headers, skipinitialspace=True)\n",
    "\n",
    "test_df = pd.read_csv('./data/adult.test', names=headers, skipinitialspace=True)"
   ],
   "metadata": {
    "collapsed": false,
    "ExecuteTime": {
     "end_time": "2023-10-02T11:15:10.821256Z",
     "start_time": "2023-10-02T11:15:10.702569Z"
    }
   },
   "id": "6e64da05b1bc8269"
  },
  {
   "cell_type": "code",
   "execution_count": 123,
   "outputs": [],
   "source": [
    "# replace ? with NAN\n",
    "train_df[train_df == '?'] = np.nan\n",
    "test_df[test_df == '?'] = np.nan\n",
    "\n",
    "X_train = train_df.drop(\"income\", axis=1)\n",
    "Y_train = train_df[\"income\"]\n",
    "X_test = test_df.drop(\"income\", axis=1)\n",
    "Y_test = test_df[\"income\"]\n",
    "#occupation 1843\n",
    "#workclass 1836\n",
    "#native-country 583"
   ],
   "metadata": {
    "collapsed": false,
    "ExecuteTime": {
     "end_time": "2023-10-02T11:15:10.875531Z",
     "start_time": "2023-10-02T11:15:10.842541Z"
    }
   },
   "id": "9050426ebbf3ae6a"
  },
  {
   "cell_type": "code",
   "execution_count": 124,
   "outputs": [],
   "source": [
    "from sklearn.impute import KNNImputer\n",
    "# preprocessing\n",
    "\n",
    "from sklearn import preprocessing\n",
    "from sklearn.preprocessing import LabelEncoder\n",
    "from sklearn.preprocessing import StandardScaler\n",
    "\n",
    "def preprocess(train_data, test_data):\n",
    "    \n",
    "    # categorical to numerical \n",
    "    categorical = ['workclass', 'education', 'marital-status', 'occupation', 'relationship', 'race', 'sex', 'native-country']\n",
    "    oe = [None] * len(categorical)\n",
    "    for i, feature in enumerate(categorical):\n",
    "            oe[i] = LabelEncoder()\n",
    "            train_data[feature] = oe[i].fit_transform(train_data[feature])\n",
    "            test_data[feature] = oe[i].transform(test_data[feature])\n",
    "        \n",
    "        # impute missing value    \n",
    "    imputer = KNNImputer(missing_values=np.nan, add_indicator=True)\n",
    "    train_data = imputer.fit_transform(train_data)\n",
    "    test_data = imputer.transform(test_data)\n",
    "\n",
    "    for i, feature in enumerate(categorical):\n",
    "            oe[i] = LabelEncoder()\n",
    "            train_data[feature] = oe[i].inverse_transform(train_data[feature])\n",
    "            test_data[feature] = oe[i].inverse_transform(test_data[feature])\n",
    "    # standard scaling\n",
    "    # scaler = StandardScaler()\n",
    "    # train_data = pd.DataFrame(scaler.fit_transform(train_data), columns = X_train.columns)\n",
    "    # test_data = pd.DataFrame(scaler.transform(test_data), columns = X_train.columns)\n",
    "    \n",
    "    return train_data, test_data"
   ],
   "metadata": {
    "collapsed": false,
    "ExecuteTime": {
     "end_time": "2023-10-02T11:15:10.886587Z",
     "start_time": "2023-10-02T11:15:10.874063Z"
    }
   },
   "id": "ee223ae96b4f96bc"
  },
  {
   "cell_type": "code",
   "execution_count": 125,
   "outputs": [
    {
     "ename": "IndexError",
     "evalue": "only integers, slices (`:`), ellipsis (`...`), numpy.newaxis (`None`) and integer or boolean arrays are valid indices",
     "output_type": "error",
     "traceback": [
      "\u001B[0;31m---------------------------------------------------------------------------\u001B[0m",
      "\u001B[0;31mIndexError\u001B[0m                                Traceback (most recent call last)",
      "Cell \u001B[0;32mIn[125], line 1\u001B[0m\n\u001B[0;32m----> 1\u001B[0m X_train,X_test \u001B[38;5;241m=\u001B[39m \u001B[43mpreprocess\u001B[49m\u001B[43m(\u001B[49m\u001B[43mX_train\u001B[49m\u001B[43m,\u001B[49m\u001B[43m \u001B[49m\u001B[43mX_test\u001B[49m\u001B[43m)\u001B[49m\n\u001B[1;32m      2\u001B[0m X_train\u001B[38;5;241m.\u001B[39mhead(\u001B[38;5;241m5\u001B[39m)\n\u001B[1;32m      3\u001B[0m \u001B[38;5;66;03m# from sklearn.model_selection import train_test_split\u001B[39;00m\n\u001B[1;32m      4\u001B[0m \u001B[38;5;66;03m# \u001B[39;00m\n\u001B[1;32m      5\u001B[0m \u001B[38;5;66;03m# validation_size = 0.20\u001B[39;00m\n\u001B[1;32m      6\u001B[0m \u001B[38;5;66;03m# \u001B[39;00m\n\u001B[1;32m      7\u001B[0m \u001B[38;5;66;03m# X_train, X_val, Y_train, Y_val = train_test_split(X_train,Y_train,\u001B[39;00m\n\u001B[1;32m      8\u001B[0m \u001B[38;5;66;03m#     test_size=validation_size,random_state=42)\u001B[39;00m\n",
      "Cell \u001B[0;32mIn[124], line 25\u001B[0m, in \u001B[0;36mpreprocess\u001B[0;34m(train_data, test_data)\u001B[0m\n\u001B[1;32m     23\u001B[0m \u001B[38;5;28;01mfor\u001B[39;00m i, feature \u001B[38;5;129;01min\u001B[39;00m \u001B[38;5;28menumerate\u001B[39m(categorical):\n\u001B[1;32m     24\u001B[0m         oe[i] \u001B[38;5;241m=\u001B[39m LabelEncoder()\n\u001B[0;32m---> 25\u001B[0m         train_data[feature] \u001B[38;5;241m=\u001B[39m oe[i]\u001B[38;5;241m.\u001B[39minverse_transform(\u001B[43mtrain_data\u001B[49m\u001B[43m[\u001B[49m\u001B[43mfeature\u001B[49m\u001B[43m]\u001B[49m)\n\u001B[1;32m     26\u001B[0m         test_data[feature] \u001B[38;5;241m=\u001B[39m oe[i]\u001B[38;5;241m.\u001B[39minverse_transform(test_data[feature])\n\u001B[1;32m     27\u001B[0m \u001B[38;5;66;03m# standard scaling\u001B[39;00m\n\u001B[1;32m     28\u001B[0m \u001B[38;5;66;03m# scaler = StandardScaler()\u001B[39;00m\n\u001B[1;32m     29\u001B[0m \u001B[38;5;66;03m# train_data = pd.DataFrame(scaler.fit_transform(train_data), columns = X_train.columns)\u001B[39;00m\n\u001B[1;32m     30\u001B[0m \u001B[38;5;66;03m# test_data = pd.DataFrame(scaler.transform(test_data), columns = X_train.columns)\u001B[39;00m\n",
      "\u001B[0;31mIndexError\u001B[0m: only integers, slices (`:`), ellipsis (`...`), numpy.newaxis (`None`) and integer or boolean arrays are valid indices"
     ]
    }
   ],
   "source": [
    "X_train,X_test = preprocess(X_train, X_test)\n",
    "X_train.head(5)\n",
    "# from sklearn.model_selection import train_test_split\n",
    "# \n",
    "# validation_size = 0.20\n",
    "# \n",
    "# X_train, X_val, Y_train, Y_val = train_test_split(X_train,Y_train,\n",
    "#     test_size=validation_size,random_state=42)"
   ],
   "metadata": {
    "collapsed": false,
    "ExecuteTime": {
     "end_time": "2023-10-02T11:15:11.050323Z",
     "start_time": "2023-10-02T11:15:10.929111Z"
    }
   },
   "id": "99d87a3660249eb1"
  }
 ],
 "metadata": {
  "kernelspec": {
   "display_name": "Python 3",
   "language": "python",
   "name": "python3"
  },
  "language_info": {
   "codemirror_mode": {
    "name": "ipython",
    "version": 2
   },
   "file_extension": ".py",
   "mimetype": "text/x-python",
   "name": "python",
   "nbconvert_exporter": "python",
   "pygments_lexer": "ipython2",
   "version": "2.7.6"
  }
 },
 "nbformat": 4,
 "nbformat_minor": 5
}
